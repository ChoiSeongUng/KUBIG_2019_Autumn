{
 "cells": [
  {
   "cell_type": "markdown",
   "metadata": {},
   "source": [
    "### Unsupervised Learning Challenge\n",
    "- due date : **Sat. 10/12 11:59pm**\n",
    "- 이 과제는 2학기 프로젝트 조 편성 시 반영됩니다."
   ]
  },
  {
   "cell_type": "markdown",
   "metadata": {},
   "source": [
    "- 다음의 패키지들을 import 하시오.\n",
    "    - numpy\n",
    "    - pandas\n",
    "    - matplotlib.pyplot\n",
    "    - sklearn : datasets\n",
    "    - sklearn.preprocessing : normalize\n",
    "    - sklearn.model_selection : train_test_split\n",
    "    - scipy.cluster.hierarchy : linkage, dendrogram\n",
    "    - sklearn.cluster : AgglomerativeClustering, KMeans\n",
    "    \n"
   ]
  },
  {
   "cell_type": "code",
   "execution_count": null,
   "metadata": {},
   "outputs": [],
   "source": []
  },
  {
   "cell_type": "markdown",
   "metadata": {},
   "source": [
    "* Iris data를 다시 한 번 더 살펴보시오."
   ]
  },
  {
   "cell_type": "code",
   "execution_count": null,
   "metadata": {},
   "outputs": [],
   "source": [
    "# load iris data from scikit learn datasets\n",
    "iris = _______.load_iris()\n",
    "\n",
    "# print head of iris data\n",
    "print(iris.data[:__, ])\n",
    "\n",
    "# print shape of iris data\n",
    "print(\"\\n\", iris.data.____)\n",
    "\n",
    "# print iris target data\n",
    "print(\"\\n\", iris.____)"
   ]
  },
  {
   "cell_type": "markdown",
   "metadata": {},
   "source": [
    "iris.target에서의 0은 'setosa', 1은 'versicolor', 2는 'virginica'입니다."
   ]
  },
  {
   "cell_type": "markdown",
   "metadata": {},
   "source": [
    "* X와 y에 non-target value, target value를 저장하시오.\n",
    "    - iris.data 내부의 scale에 차이가 있으므로 normalize를 하시오."
   ]
  },
  {
   "cell_type": "code",
   "execution_count": null,
   "metadata": {},
   "outputs": [],
   "source": [
    "X = _______(_____)\n",
    "y = "
   ]
  },
  {
   "cell_type": "markdown",
   "metadata": {},
   "source": [
    "* train set, test set을 분리하시오.\n",
    "    - test set의 size는 전체 데이터의 30%이며, random_state는 825로 하시오."
   ]
  },
  {
   "cell_type": "code",
   "execution_count": null,
   "metadata": {},
   "outputs": [],
   "source": [
    "X_train, X_test, y_train, y_test = _____________(_, _, ___=___, ___=___)\n",
    "\n",
    "# print shapes of train set\n",
    "print(X_train.____, y_train.____)\n",
    "\n",
    "# print shpaes of test set\n",
    "print(\"\\n\", ______, ______)"
   ]
  },
  {
   "cell_type": "markdown",
   "metadata": {},
   "source": [
    "-----------------------------------\n",
    "#### Agglomerative Clustering\n",
    "* 여러 linkage를 활용하여 agglomerative clustering을 시행하고 dendrogram을 그리시오."
   ]
  },
  {
   "cell_type": "markdown",
   "metadata": {},
   "source": [
    "* single linkage"
   ]
  },
  {
   "cell_type": "code",
   "execution_count": null,
   "metadata": {},
   "outputs": [],
   "source": [
    "# make single linkage : single\n",
    "single = linkage(X_train, '______')\n",
    "\n",
    "# draw dendrogram\n",
    "plt.figure(figsize=(20, 5))\n",
    "______(______, labels=[['setosa', 'versicolor', 'virginica'][i] for i in y_train], leaf_rotation=90)\n",
    "plt.title('Single linkage Dendrogram')\n",
    "plt.show()"
   ]
  },
  {
   "cell_type": "markdown",
   "metadata": {},
   "source": [
    "Chaining 현상을 볼 수 있다."
   ]
  },
  {
   "cell_type": "markdown",
   "metadata": {},
   "source": [
    "* complete linkage"
   ]
  },
  {
   "cell_type": "code",
   "execution_count": null,
   "metadata": {},
   "outputs": [],
   "source": [
    "# make complete linkage : complete\n",
    "complete = \n",
    "\n",
    "# draw dendrogram\n",
    "plt.figure(figsize=(20, 5))\n",
    "_______(_____, labels=[['setosa', 'versicolor', 'virginica'][i] for i in y_train], leaf_rotation=90)\n",
    "plt.title('_____ linkage Dendrogram')\n",
    "plt.show()"
   ]
  },
  {
   "cell_type": "markdown",
   "metadata": {},
   "source": [
    "* average linkage"
   ]
  },
  {
   "cell_type": "code",
   "execution_count": null,
   "metadata": {},
   "outputs": [],
   "source": [
    "# make average linkage : average\n",
    "\n",
    "\n",
    "# draw dendrogram\n",
    "plt.figure(figsize=(20, 5))\n",
    "\n",
    "\n",
    "plt.show()"
   ]
  },
  {
   "cell_type": "markdown",
   "metadata": {},
   "source": [
    "* Centroid linkage"
   ]
  },
  {
   "cell_type": "code",
   "execution_count": null,
   "metadata": {},
   "outputs": [],
   "source": [
    "# make centroid linkage : centroid\n",
    "\n",
    "\n",
    "# draw dendrogram\n",
    "plt.figure(figsize=(20, 5))\n",
    "\n",
    "\n"
   ]
  },
  {
   "cell_type": "markdown",
   "metadata": {},
   "source": [
    "* ward's method"
   ]
  },
  {
   "cell_type": "code",
   "execution_count": null,
   "metadata": {},
   "outputs": [],
   "source": [
    "# make ward linkage : ward\n",
    "\n",
    "\n",
    "# draw dendrogram\n",
    "plt.figure(figsize=(20, 5))\n",
    "\n",
    "\n"
   ]
  },
  {
   "cell_type": "markdown",
   "metadata": {},
   "source": [
    "* ward's method를 활용하여 hierarchical clustering의 label을 새 변수에 저장하시오. : train_pred\n",
    "    - using sklearn.cluster : AgglomerativeClustering"
   ]
  },
  {
   "cell_type": "code",
   "execution_count": null,
   "metadata": {},
   "outputs": [],
   "source": [
    "# make Agglomerative Clustering model and fit with X_train\n",
    "ward_clustering = _______(n_clusters=_, affinity='euclidean', linkage='____').___(____)\n",
    "\n",
    "# get labels : train_pred\n",
    "train_pred = ward_clustering.______"
   ]
  },
  {
   "cell_type": "markdown",
   "metadata": {},
   "source": [
    "* train_pred와 y_train을 비교하는 cross table을 만드시오."
   ]
  },
  {
   "cell_type": "code",
   "execution_count": null,
   "metadata": {},
   "outputs": [],
   "source": [
    "# make cross table.\n",
    "labels = pd.DataFrame(np.concatenate((_____.reshape(-1, 1), _____.reshape(-1, 1)), axis=1), columns=['predict', 'real'])\n",
    "ct = pd.______(labels.real, labels.______)\n",
    "\n",
    "# display cross table\n"
   ]
  },
  {
   "cell_type": "markdown",
   "metadata": {},
   "source": [
    "* predict label을 재조정하고 다시 cross table을 만드시오.\n",
    "    - misclassification error를 계산하시오."
   ]
  },
  {
   "cell_type": "code",
   "execution_count": null,
   "metadata": {},
   "outputs": [],
   "source": [
    "# make cross table with relabeling\n",
    "labels['predict'] = train_pred-__\n",
    "labels.loc[labels.predict==__, 'predict'] = __\n",
    "ct = pd.crosstab(____, _____)\n",
    "\n",
    "# calculate train error\n",
    "train_error = 1-(np.trace(___) / np.sum(np.sum(___)))\n",
    "\n",
    "# display the cross table\n",
    "\n",
    "\n",
    "# print the train error\n",
    "print(\"Train error : {}\".format(np.round(______, 5)))"
   ]
  },
  {
   "cell_type": "markdown",
   "metadata": {},
   "source": [
    "* clustering 결과를 시각화하시오."
   ]
  },
  {
   "cell_type": "markdown",
   "metadata": {},
   "source": [
    "iris.target에서의 0은 'setosa', 1은 'versicolor', 2는 'virginica'입니다."
   ]
  },
  {
   "cell_type": "code",
   "execution_count": null,
   "metadata": {},
   "outputs": [],
   "source": [
    "color_dict={0:'#F8D030', 1:'#705848', 2:'#6890F0'} # recommended color"
   ]
  },
  {
   "cell_type": "code",
   "execution_count": null,
   "metadata": {},
   "outputs": [],
   "source": [
    "# make plot\n",
    "plt.scatter(X_train[labels.predict==_,0], X_train[labels.predict==_,1], \n",
    "            marker = '+', color=[color_dict[i] for  i in y_train[labels.predict==0]], label='____')\n",
    "plt.scatter(X_train[labels.predict==_,0], X_train[labels.predict==_,1], \n",
    "            marker = '.', color=[color_dict[i] for  i in y_train[labels.predict==1]], label='____')\n",
    "plt.scatter(X_train[labels.predict==_,0], X_train[labels.predict==_,1], \n",
    "            marker = '*', color=[color_dict[i] for  i in y_train[labels.predict==2]], label='____')\n",
    "plt.xlabel('first feature')\n",
    "plt.ylabel('sencond feautre')\n",
    "plt.legend(loc='upper left')\n",
    "plt.title(\"ward's method\")\n",
    "plt.show()"
   ]
  },
  {
   "cell_type": "markdown",
   "metadata": {},
   "source": [
    "-----------------------------------\n",
    "#### K-means\n",
    "* predict label을 활용하여 각 cluster별 centroid를 계산하시오."
   ]
  },
  {
   "cell_type": "code",
   "execution_count": null,
   "metadata": {},
   "outputs": [],
   "source": [
    "# split clusters from X_train\n",
    "cluster0 = X_train[____,:]\n",
    "cluster1 = X_train[____,:]\n",
    "cluster2 = X_train[____,:]\n",
    "\n",
    "# print the clusters shape\n"
   ]
  },
  {
   "cell_type": "code",
   "execution_count": null,
   "metadata": {},
   "outputs": [],
   "source": [
    "# calculate a centroid of each cluster\n",
    "centroid0 = \n",
    "centroid1 = \n",
    "centroid2 = \n",
    "\n",
    "# print the centroids\n",
    "print(centroid0, '\\n', centroid1, '\\n', centroid2, '\\n')"
   ]
  },
  {
   "cell_type": "markdown",
   "metadata": {},
   "source": [
    "* 위에서 구한 centroid를 초기 centroid로 하는 K-means clustering을 구성하시오."
   ]
  },
  {
   "cell_type": "code",
   "execution_count": null,
   "metadata": {},
   "outputs": [],
   "source": [
    "# get initial centroids\n",
    "init_centroid = np.array(___________)\n",
    "\n",
    "# make Kmeans with initial centroids and fix with train data\n",
    "kmeans = KMeans(n_clusters=___, init=_____, n_init=__).___(____)\n",
    "\n",
    "# get train labels : kmeans_pred\n",
    "\n",
    "\n",
    "# get test labels\n",
    "test_pred = kmeans.____(____)"
   ]
  },
  {
   "cell_type": "markdown",
   "metadata": {},
   "source": [
    "* train_pred와 y_train을 비교하는 cross table을 만드시오."
   ]
  },
  {
   "cell_type": "code",
   "execution_count": null,
   "metadata": {},
   "outputs": [],
   "source": [
    "# make cross table with train prediction and real train label\n",
    "kmeans_labels = pd.DataFrame(_______________)\n",
    "kmeans_ct = \n",
    "\n",
    "# display the cross table\n",
    "display(kmeans_ct)"
   ]
  },
  {
   "cell_type": "markdown",
   "metadata": {},
   "source": [
    "* missclassification error를 계산하시오."
   ]
  },
  {
   "cell_type": "code",
   "execution_count": null,
   "metadata": {},
   "outputs": [],
   "source": [
    "# calculate k-means train error\n",
    "kmeans_error = \n",
    "\n",
    "# print the train error\n",
    "print(\"Train error : {}\".format(np.round(______, 5)))"
   ]
  },
  {
   "cell_type": "markdown",
   "metadata": {},
   "source": [
    "* clustering 결과를 시각화하시오."
   ]
  },
  {
   "cell_type": "code",
   "execution_count": null,
   "metadata": {},
   "outputs": [],
   "source": [
    "\n",
    "\n",
    "\n",
    "plt.xlabel('first feature')\n",
    "plt.ylabel('sencond feautre')\n",
    "plt.legend(loc='upper left')\n",
    "plt.title(\"K-means train data clustering\")\n",
    "plt.show()"
   ]
  },
  {
   "cell_type": "markdown",
   "metadata": {},
   "source": [
    "-----------------------------\n",
    "* test_pred와 y_test을 비교하는 cross table을 만드시오."
   ]
  },
  {
   "cell_type": "code",
   "execution_count": null,
   "metadata": {},
   "outputs": [],
   "source": [
    "# make cross table with test prediction and real test label\n",
    "test_labels = pd.DataFrame(_________)\n",
    "test_ct = \n",
    "\n",
    "# display the cross table\n"
   ]
  },
  {
   "cell_type": "markdown",
   "metadata": {},
   "source": [
    "* misclassification error를 계산하시오."
   ]
  },
  {
   "cell_type": "code",
   "execution_count": null,
   "metadata": {},
   "outputs": [],
   "source": [
    "# calculate the test error\n",
    "test_error = \n",
    "\n",
    "# print the test error\n",
    "print(\"Train error : {}\".format(np.round(_______, 5)))"
   ]
  },
  {
   "cell_type": "markdown",
   "metadata": {},
   "source": [
    "* clustering 결과를 시각화하시오."
   ]
  },
  {
   "cell_type": "code",
   "execution_count": null,
   "metadata": {},
   "outputs": [],
   "source": []
  },
  {
   "cell_type": "markdown",
   "metadata": {},
   "source": [
    "#### END"
   ]
  }
 ],
 "metadata": {
  "kernelspec": {
   "display_name": "Python 3",
   "language": "python",
   "name": "python3"
  },
  "language_info": {
   "codemirror_mode": {
    "name": "ipython",
    "version": 3
   },
   "file_extension": ".py",
   "mimetype": "text/x-python",
   "name": "python",
   "nbconvert_exporter": "python",
   "pygments_lexer": "ipython3",
   "version": "3.6.5"
  }
 },
 "nbformat": 4,
 "nbformat_minor": 4
}
